{
 "cells": [
  {
   "cell_type": "code",
   "execution_count": null,
   "metadata": {
    "id": "bLOjYzzA2YOI"
   },
   "outputs": [],
   "source": [
    "# Cell type : CodeRead\n",
    "\n",
    "import numpy as np\n",
    "import matplotlib.pyplot as plt\n"
   ]
  },
  {
   "cell_type": "markdown",
   "metadata": {
    "id": "s3PBeaFv2YOO"
   },
   "source": [
    "**Cell type : TextRead**\n",
    "\n",
    "# Problem 5: Life in Lower Dimensions\n",
    "\n",
    "You are provided with a dataset of 1797 images - each image is 8x8 pixels and provided as a feature vector of length 64. You will try your hands at transforming this dataset to a lower-dimensional space using PCA, and perform K-means clustering the images in this reduced space.\n",
    " \n",
    "\n",
    "\n"
   ]
  },
  {
   "cell_type": "code",
   "execution_count": null,
   "metadata": {
    "id": "U2idb_9Tbj6i"
   },
   "outputs": [],
   "source": [
    "# Cell type : CodeWrite\n",
    "# write the function for PCA and K-means clustering here. \n",
    "\n",
    "def PCA(M, D, X):\n",
    "    X_bar = np.mean(X,axis = 0)[None, :]\n",
    "    S = np.dot(X.T-X_bar.T, X-X_bar)/len(X)\n",
    "    eigenvals, eigenvecs = np.linalg.eig(S)\n",
    "    N = len(X)\n",
    "    U = np.array(eigenvecs)\n",
    "    Z = np.zeros((N,M))\n",
    "    b = np.zeros(D)\n",
    "    for n in range(N):\n",
    "        for i in range(M):\n",
    "            Z[n,i] = np.dot(X[n], U[: , i])\n",
    "    for i in range(M,D):\n",
    "        b[i] = np.dot(X_bar, U[: , i])\n",
    "    \n",
    "    X_tilde = np.zeros(X.shape)\n",
    "    \n",
    "    for n in range(N):\n",
    "        for i in range(M):\n",
    "            X_tilde[n, : ] += Z[n,i]*U[: , i].T\n",
    "        for i in range(M,D):\n",
    "            X_tilde[n, : ] += b[i]*U[: , i].T\n",
    "    \n",
    "    return (X_tilde)\n",
    "\n"
   ]
  },
  {
   "cell_type": "markdown",
   "metadata": {
    "id": "t1TtiFGnbja_"
   },
   "source": []
  },
  {
   "cell_type": "markdown",
   "metadata": {
    "id": "oxn_5V_M2YOa"
   },
   "source": [
    "**Cell type : TextRead**\n",
    "\n",
    "# Problem 5\n",
    "\n",
    "#### 5a) Run PCA algorithm on the given data-set. Plot the cumulative percentage variance explained by the principal components. Report the number of principal components that contribute to 90% of the variance in the dataset.\n",
    "\n",
    "\n"
   ]
  },
  {
   "cell_type": "code",
   "execution_count": 155,
   "metadata": {
    "id": "03-5tY9-2YOc"
   },
   "outputs": [
    {
     "data": {
      "text/plain": [
       "[<matplotlib.lines.Line2D at 0x7fb6f012e820>]"
      ]
     },
     "execution_count": 155,
     "metadata": {},
     "output_type": "execute_result"
    },
    {
     "data": {
      "image/png": "[encoded data removed]",
      "text/plain": [
       "<Figure size 432x288 with 1 Axes>"
      ]
     },
     "metadata": {
      "needs_background": "light"
     },
     "output_type": "display_data"
    }
   ],
   "source": [
    "# Cell type : CodeWrite\n",
    "# write the code for loading the data, running the PCA algorithm, and plotting. \n",
    "# (Use the functions written previously.)\n",
    "datafile = np.load('Data.npz')\n",
    "X = datafile['arr_0']\n",
    "X_bar = np.mean(X,axis = 0)[None, :]\n",
    "S = np.dot(X.T-X_bar.T, X-X_bar)/len(X)\n",
    "eigenvals, eigenvecs = np.linalg.eig(S)\n",
    "p=eigenvals\n",
    "sum=0\n",
    "np.sort(p)[::-1]\n",
    "for i in range(len(p)):\n",
    "    sum=sum+p[i]\n",
    "    p[i]=sum\n",
    "for j in range(len(p)):\n",
    "    p[j]=p[j]/sum*100\n",
    "plt.plot(p)\n"
   ]
  },
  {
   "cell_type": "markdown",
   "metadata": {
    "id": "A4l-j-e-sDr1"
   },
   "source": [
    "####5b)  Perform reconstruction of data using the dimensionality-reduced data considering the number of dimensions [2,4,8,16]. Report the Mean Square Error (MSE) between the original data and reconstructed data, and interpret the optimal dimensions $\\hat{d}$ based on the MSE values.\n",
    "\n"
   ]
  },
  {
   "cell_type": "code",
   "execution_count": 156,
   "metadata": {
    "id": "-imwHLynsTee",
    "scrolled": true
   },
   "outputs": [
    {
     "name": "stdout",
     "output_type": "stream",
     "text": [
      "[858.9447808487328, 616.1911300562693, 391.7947361149765, 180.93970325737862]\n"
     ]
    },
    {
     "data": {
      "image/png": "[encoded data removed]",
      "text/plain": [
       "<Figure size 432x288 with 1 Axes>"
      ]
     },
     "metadata": {
      "needs_background": "light"
     },
     "output_type": "display_data"
    }
   ],
   "source": [
    "# Cell type : CodeWrite\n",
    "# Write the code for data reconstruction, run the algorithm for dimensions.\n",
    "import time\n",
    "eigenvalslist=[]\n",
    "mse=[]\n",
    "y=[2,4,8,16]\n",
    "for i in y:\n",
    "    M=i\n",
    "    D=64\n",
    "    X_tilde=PCA(M, D, X)\n",
    "    eigenvalslist.append(X_tilde)\n",
    "    mean_square_error=np.sum((X-X_tilde)**2)/len(X)\n",
    "    mse.append(mean_square_error)\n",
    "    #time.sleep(2)\n",
    "#print(myplots)\n",
    "#fig, ax = plt.subplots(nrows=2, ncols=2)\n",
    "#for eigen,mseval in zip(eigenvalslist,mse):\n",
    "    #for row in ax:\n",
    "        #for col in row:\n",
    "            #col.plot(eigen)\n",
    "            #col.title.set_text(mseval)\n",
    "plt.plot(y,mse)\n",
    "print(mse)\n",
    "\n"
   ]
  },
  {
   "cell_type": "markdown",
   "metadata": {
    "id": "n0T5nHANsIVE"
   },
   "source": [
    "####5c) Apply K-means clustering on the reduced dataset from last subpart (b) (i.e., the $R^{64}$ to $R^\\hat{d}$ reduced dataset; pick the initial k points as cluster centers during initialization). Report the optimal choice of K you have made from the set [1...15]. Which method did you choose to find the optimum number of clusters? And explain briefy why you chose that method. Also, show the 2D scatter plot (consider only the first two dimensions of optimal $\\hat{d}$) of the datapoints based on the cluster predicted by K-means (use different color for each cluster).\n"
   ]
  },
  {
   "cell_type": "code",
   "execution_count": 157,
   "metadata": {
    "id": "mo_Cwhtgc6YF"
   },
   "outputs": [],
   "source": [
    "# Cell type : CodeWrite\n",
    "# Write the code for dimensionality reduction, run k-means algorithm on the reduced data-set and do plotting."
   ]
  },
  {
   "cell_type": "markdown",
   "metadata": {
    "id": "FOV0CPf5sJ-v"
   },
   "source": [
    "####5d) In the next TextWrite cell, Summarise and explain your observations from the above experiments. Is the PCA+K-means clustering consistent with how your brain would cluster the images?\n",
    "\n"
   ]
  },
  {
   "cell_type": "markdown",
   "metadata": {
    "id": "2u5_HkyasqAo"
   },
   "source": [
    "**Cell type : TextWrite**\n",
    "\n",
    "Report your observations, MSE values and the method used to choose the optimal number of clusters.\n",
    "\n"
   ]
  }
 ],
 "metadata": {
  "colab": {
   "collapsed_sections": [],
   "name": "CS5691_student_version.ipynb",
   "provenance": []
  },
  "kernelspec": {
   "display_name": "Python 3",
   "language": "python",
   "name": "python3"
  },
  "language_info": {
   "codemirror_mode": {
    "name": "ipython",
    "version": 3
   },
   "file_extension": ".py",
   "mimetype": "text/x-python",
   "name": "python",
   "nbconvert_exporter": "python",
   "pygments_lexer": "ipython3",
   "version": "3.8.10"
  }
 },
 "nbformat": 4,
 "nbformat_minor": 1
}
